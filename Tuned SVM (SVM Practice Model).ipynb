{
 "cells": [
  {
   "cell_type": "code",
   "execution_count": 1,
   "id": "d29e22df-8b8e-45ca-8faf-8308486498bc",
   "metadata": {},
   "outputs": [],
   "source": [
    "import pandas as pd\n",
    "import matplotlib.pyplot as plt\n",
    "from sklearn.datasets import load_digits"
   ]
  },
  {
   "cell_type": "code",
   "execution_count": 19,
   "id": "c3fe43e9-b649-4585-b0e6-2c318237decf",
   "metadata": {},
   "outputs": [
    {
     "name": "stdout",
     "output_type": "stream",
     "text": [
      "Accuracy with RBF Kernel: 99.65205288796103\n",
      "Accuracy with Linear Kernel: 100.0\n",
      "Accuracy after tuning: 100.0\n"
     ]
    }
   ],
   "source": [
    "from sklearn.datasets import load_digits\n",
    "from sklearn.model_selection import train_test_split\n",
    "from sklearn.svm import SVC\n",
    "from sklearn.metrics import accuracy_score\n",
    "\n",
    "# 1️⃣ Load dataset\n",
    "digits = load_digits()\n",
    "X = digits.data\n",
    "y = digits.target\n",
    "\n",
    "# 2️⃣ Split data (80% train, 20% test)\n",
    "X_train, X_test, y_train, y_test = train_test_split(X, y, test_size=0.2, random_state=42)\n",
    "\n",
    "# 3️⃣ Train SVM with RBF kernel\n",
    "model_rbf = SVC(kernel='rbf')\n",
    "model_rbf.fit(X_train, y_train)\n",
    "model_rbf.predict(X_test)\n",
    "print(\"Accuracy with RBF Kernel:\", model_rbf.score(X_train, y_train)*100)\n",
    "\n",
    "# 4️⃣ Train SVM with Linear kernel\n",
    "model_linear = SVC(kernel='linear')\n",
    "model_linear.fit(X_train, y_train)\n",
    "model_linear.predict(X_test)\n",
    "print(\"Accuracy with Linear Kernel:\",model_linear.score(X_train, y_train)*100)\n",
    "\n",
    "# 5️⃣ Tune Hyperparameters (C and gamma)\n",
    "model_tuned = SVC(kernel='rbf', C=5, gamma=0.001)\n",
    "model_tuned.fit(X_train, y_train)\n",
    "model_tuned.predict(X_test)\n",
    "print(\"Accuracy after tuning:\",model_tuned.score(X_train, y_train)*100)\n"
   ]
  },
  {
   "cell_type": "code",
   "execution_count": null,
   "id": "c6d7b706-b3d1-42f7-a0a8-4c06fa9b451b",
   "metadata": {},
   "outputs": [],
   "source": []
  }
 ],
 "metadata": {
  "kernelspec": {
   "display_name": "Python 3 (ipykernel)",
   "language": "python",
   "name": "python3"
  },
  "language_info": {
   "codemirror_mode": {
    "name": "ipython",
    "version": 3
   },
   "file_extension": ".py",
   "mimetype": "text/x-python",
   "name": "python",
   "nbconvert_exporter": "python",
   "pygments_lexer": "ipython3",
   "version": "3.13.5"
  }
 },
 "nbformat": 4,
 "nbformat_minor": 5
}
